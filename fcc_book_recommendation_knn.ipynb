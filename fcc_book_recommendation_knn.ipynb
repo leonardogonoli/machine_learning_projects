{
  "cells": [
    {
      "cell_type": "markdown",
      "metadata": {
        "id": "view-in-github",
        "colab_type": "text"
      },
      "source": [
        "<a href=\"https://colab.research.google.com/github/leonardogonoli/machine_learning_projects/blob/main/fcc_book_recommendation_knn.ipynb\" target=\"_parent\"><img src=\"https://colab.research.google.com/assets/colab-badge.svg\" alt=\"Open In Colab\"/></a>"
      ]
    },
    {
      "cell_type": "markdown",
      "source": [
        "**Book Recommendation Engine using KNN**\n",
        "\n",
        "This is a challenge from the website [freeCodeCamp](https://www.freecodecamp.org/learn/machine-learning-with-python/machine-learning-with-python-projects/book-recommendation-engine-using-knn).\n",
        "\n",
        "The goal of this challenge is to create a book recommendation algorithm using K-Nearest Neighbors.\n",
        "\n",
        "For this challenge, I need to use the Book-Crossings[Book-Crossings](http://www2.informatik.uni-freiburg.de/~cziegler/BX/) dataset. This dataset contains 1.1 million ratings (scale of 1-10) of 270,000 books by 90,000 users.\n",
        "\n",
        "After importing and cleaning the data, I should use NearestNeighbors from sklearn.neighbors to develop a model that shows books that are similar to a given book. The Nearest Neighbors algorithm measures the distance to determine the “closeness” of instances.\n",
        "\n",
        "**Goal:** Create a function named get_recommends that takes a book title (from the dataset) as an argument and returns a list of 5 similar books with their distances from the book argument.\n",
        "\n",
        "The data returned from get_recommends() is a list. The first element in the list is the book title passed into the function. The second element in the list is a list of five more lists. Each of the five lists contains a recommended book and the distance from the recommended book to the book passed into the function."
      ],
      "metadata": {
        "id": "o49hYBzOZozf"
      }
    },
    {
      "cell_type": "code",
      "execution_count": 1,
      "metadata": {
        "id": "Y1onB6kUvo4Z"
      },
      "outputs": [],
      "source": [
        "# import libraries\n",
        "import numpy as np\n",
        "import pandas as pd\n",
        "from scipy.sparse import csr_matrix\n",
        "from sklearn.neighbors import NearestNeighbors\n",
        "import matplotlib.pyplot as plt"
      ]
    },
    {
      "cell_type": "code",
      "execution_count": 2,
      "metadata": {
        "id": "iAQGqqO_vo4d",
        "colab": {
          "base_uri": "https://localhost:8080/"
        },
        "outputId": "8241d4f4-e116-48a0-9742-fbb2fe6c0f4c"
      },
      "outputs": [
        {
          "output_type": "stream",
          "name": "stdout",
          "text": [
            "--2023-01-26 03:58:25--  https://cdn.freecodecamp.org/project-data/books/book-crossings.zip\n",
            "Resolving cdn.freecodecamp.org (cdn.freecodecamp.org)... 104.26.3.33, 172.67.70.149, 104.26.2.33, ...\n",
            "Connecting to cdn.freecodecamp.org (cdn.freecodecamp.org)|104.26.3.33|:443... connected.\n",
            "HTTP request sent, awaiting response... 200 OK\n",
            "Length: 26085508 (25M) [application/zip]\n",
            "Saving to: ‘book-crossings.zip.1’\n",
            "\n",
            "book-crossings.zip. 100%[===================>]  24.88M  60.4MB/s    in 0.4s    \n",
            "\n",
            "2023-01-26 03:58:25 (60.4 MB/s) - ‘book-crossings.zip.1’ saved [26085508/26085508]\n",
            "\n",
            "Archive:  book-crossings.zip\n",
            "replace BX-Book-Ratings.csv? [y]es, [n]o, [A]ll, [N]one, [r]ename: N\n"
          ]
        }
      ],
      "source": [
        "# get data files\n",
        "!wget https://cdn.freecodecamp.org/project-data/books/book-crossings.zip\n",
        "\n",
        "!unzip book-crossings.zip\n",
        "\n",
        "books_filename = 'BX-Books.csv'\n",
        "ratings_filename = 'BX-Book-Ratings.csv'"
      ]
    },
    {
      "cell_type": "code",
      "execution_count": 14,
      "metadata": {
        "id": "NClILWOiEd6Q"
      },
      "outputs": [],
      "source": [
        "# import csv data into dataframes\n",
        "df_books = pd.read_csv(\n",
        "    books_filename,\n",
        "    encoding = \"ISO-8859-1\",\n",
        "    sep=\";\",\n",
        "    header=0,\n",
        "    names=['isbn', 'title', 'author'],\n",
        "    usecols=['isbn', 'title', 'author'],\n",
        "    dtype={'isbn': 'str', 'title': 'str', 'author': 'str'})\n",
        "\n",
        "df_ratings = pd.read_csv(\n",
        "    ratings_filename,\n",
        "    encoding = \"ISO-8859-1\",\n",
        "    sep=\";\",\n",
        "    header=0,\n",
        "    names=['user', 'isbn', 'rating'],\n",
        "    usecols=['user', 'isbn', 'rating'],\n",
        "    dtype={'user': 'int32', 'isbn': 'str', 'rating': 'float32'})"
      ]
    },
    {
      "cell_type": "code",
      "execution_count": 4,
      "metadata": {
        "id": "xAcXjkCFCh0A",
        "colab": {
          "base_uri": "https://localhost:8080/"
        },
        "outputId": "6af97f14-3608-4fbd-e4cf-87688022200b"
      },
      "outputs": [
        {
          "output_type": "stream",
          "name": "stdout",
          "text": [
            "         isbn                                              title  \\\n",
            "0  0195153448                                Classical Mythology   \n",
            "1  0002005018                                       Clara Callan   \n",
            "2  0060973129                               Decision in Normandy   \n",
            "3  0374157065  Flu: The Story of the Great Influenza Pandemic...   \n",
            "4  0393045218                             The Mummies of Urumchi   \n",
            "\n",
            "                 author  \n",
            "0    Mark P. O. Morford  \n",
            "1  Richard Bruce Wright  \n",
            "2          Carlo D'Este  \n",
            "3      Gina Bari Kolata  \n",
            "4       E. J. W. Barber  \n",
            "(271379, 3)\n"
          ]
        }
      ],
      "source": [
        "df_books.head()"
      ]
    },
    {
      "cell_type": "code",
      "source": [
        "df_books.shape"
      ],
      "metadata": {
        "id": "wDlagiJMUZ-1"
      },
      "execution_count": null,
      "outputs": []
    },
    {
      "cell_type": "code",
      "source": [
        "df_ratings.head()"
      ],
      "metadata": {
        "colab": {
          "base_uri": "https://localhost:8080/"
        },
        "id": "Xw863ZFEN3MG",
        "outputId": "0a1e4439-de14-4082-d51b-a460d9a1b3e8"
      },
      "execution_count": 15,
      "outputs": [
        {
          "output_type": "stream",
          "name": "stdout",
          "text": [
            "     user        isbn  rating\n",
            "0  276725  034545104X     0.0\n",
            "1  276726  0155061224     5.0\n",
            "2  276727  0446520802     0.0\n",
            "3  276729  052165615X     3.0\n",
            "4  276729  0521795028     6.0\n",
            "(1149780, 3)\n"
          ]
        }
      ]
    },
    {
      "cell_type": "code",
      "source": [
        "df_ratings.shape"
      ],
      "metadata": {
        "id": "moZylcHXUheE"
      },
      "execution_count": null,
      "outputs": []
    },
    {
      "cell_type": "code",
      "source": [
        "# delete users with less than 200 ratings and books with less than 100 ratings\n",
        "user_counts = df_ratings['user'].value_counts()\n",
        "isbn_counts = df_ratings['isbn'].value_counts()\n",
        "\n",
        "df_ratings = df_ratings[df_ratings['user'].isin(user_counts[user_counts >= 200].index)]\n",
        "df_ratings = df_ratings[df_ratings['isbn'].isin(isbn_counts[isbn_counts >= 100].index)]\n",
        "df_ratings.head()"
      ],
      "metadata": {
        "colab": {
          "base_uri": "https://localhost:8080/"
        },
        "id": "jSkNoQyS7Vzt",
        "outputId": "9cde4e88-0b02-4508-989a-bfd375d0e44f"
      },
      "execution_count": 16,
      "outputs": [
        {
          "output_type": "stream",
          "name": "stdout",
          "text": [
            "        user        isbn  rating\n",
            "1456  277427  002542730X    10.0\n",
            "1469  277427  0060930535     0.0\n",
            "1471  277427  0060934417     0.0\n",
            "1474  277427  0061009059     9.0\n",
            "1484  277427  0140067477     0.0\n",
            "(49781, 3)\n"
          ]
        }
      ]
    },
    {
      "cell_type": "code",
      "source": [
        "df_ratings.shape"
      ],
      "metadata": {
        "id": "1j_oqdvxUp3q"
      },
      "execution_count": null,
      "outputs": []
    },
    {
      "cell_type": "code",
      "source": [
        "df_merged_books_ratings = df_books.merge(df_ratings, on='isbn')\n",
        "df_merged_books_ratings.head()"
      ],
      "metadata": {
        "colab": {
          "base_uri": "https://localhost:8080/"
        },
        "id": "R2P5mRmCcduo",
        "outputId": "a820a862-2b63-4eea-b10f-97a02b0fca0f"
      },
      "execution_count": 17,
      "outputs": [
        {
          "output_type": "stream",
          "name": "stdout",
          "text": [
            "         isbn          title        author    user  rating\n",
            "0  0440234743  The Testament  John Grisham  277478     0.0\n",
            "1  0440234743  The Testament  John Grisham    2977     0.0\n",
            "2  0440234743  The Testament  John Grisham    3363     0.0\n",
            "3  0440234743  The Testament  John Grisham    7346     9.0\n",
            "4  0440234743  The Testament  John Grisham    9856     0.0\n",
            "(49517, 5)\n"
          ]
        }
      ]
    },
    {
      "cell_type": "code",
      "source": [
        "# combine two or more ratings from the same user for the same book into one rating\n",
        "df_grouped_books_authors = df_merged_books_ratings.groupby(by = ['title', 'user'], as_index=False).agg({'rating':'mean'}).drop_duplicates()\n",
        "df_grouped_books_authors.head()"
      ],
      "metadata": {
        "colab": {
          "base_uri": "https://localhost:8080/"
        },
        "id": "0cdku5qb_a_B",
        "outputId": "6625456f-b542-42a7-c555-571a8badc5c1"
      },
      "execution_count": 28,
      "outputs": [
        {
          "output_type": "stream",
          "name": "stdout",
          "text": [
            "  title   user  rating\n",
            "0  1984    254     9.0\n",
            "1  1984  11676     0.0\n",
            "2  1984  12538     0.0\n",
            "3  1984  15408     9.0\n",
            "4  1984  16795     8.0\n",
            "(49136, 3)\n"
          ]
        }
      ]
    },
    {
      "cell_type": "code",
      "source": [
        "pivot_users_titles = df_grouped_books_authors.pivot_table(index = 'title', columns = 'user', values = 'rating').fillna(0)\n",
        "pivot_users_titles.head()"
      ],
      "metadata": {
        "colab": {
          "base_uri": "https://localhost:8080/"
        },
        "id": "QEYOzC-5GE4t",
        "outputId": "de2ff5d9-1d11-4c4c-918c-706b67d53b62"
      },
      "execution_count": 49,
      "outputs": [
        {
          "output_type": "execute_result",
          "data": {
            "text/plain": [
              "(673, 888)"
            ]
          },
          "metadata": {},
          "execution_count": 49
        }
      ]
    },
    {
      "cell_type": "code",
      "source": [
        "mat_sparse = csr_matrix(pivot_users_titles.values)\n",
        "mat_sparse.shape"
      ],
      "metadata": {
        "colab": {
          "base_uri": "https://localhost:8080/"
        },
        "id": "R9s_L5eiXY7b",
        "outputId": "1f871e9c-03c9-40a8-a567-07ff8696fab6"
      },
      "execution_count": 52,
      "outputs": [
        {
          "output_type": "execute_result",
          "data": {
            "text/plain": [
              "(673, 888)"
            ]
          },
          "metadata": {},
          "execution_count": 52
        }
      ]
    },
    {
      "cell_type": "code",
      "source": [
        "model_knn = NearestNeighbors(metric = 'cosine', algorithm = 'brute')"
      ],
      "metadata": {
        "id": "n5mCcYlpS7xH"
      },
      "execution_count": 53,
      "outputs": []
    },
    {
      "cell_type": "code",
      "execution_count": 65,
      "metadata": {
        "id": "f5ZUd-L1SQz7"
      },
      "outputs": [],
      "source": [
        "# function to return recommended books - this will be tested\n",
        "def get_recommends(book = \"\"):\n",
        "  model_knn.fit(sparse_pop_ratings)\n",
        "  n_neighbors = 6\n",
        "  distances, indices = model_knn.kneighbors([pivot_users_titles.loc[book]], n_neighbors  = n_neighbors)\n",
        "  recommends = list(zip(indices, distances))[0]\n",
        "  list_of_recommendations = []\n",
        "  list_of_recommendations.append(book)\n",
        "  other_recommendations = []\n",
        "  for i in range(n_neighbors - 1, 0, -1):\n",
        "    title = pivot_users_titles.index[recommends[0][i]]\n",
        "    other_recommendations.append([title, round(recommends[1][i],2)])\n",
        "  list_of_recommendations.append(other_recommendations)\n",
        "  return list_of_recommendations\n"
      ]
    },
    {
      "cell_type": "code",
      "execution_count": 48,
      "metadata": {
        "id": "jd2SLCh8oxMh",
        "colab": {
          "base_uri": "https://localhost:8080/"
        },
        "outputId": "86215c2e-e0d1-4bbf-ea51-205e292ea040"
      },
      "outputs": [
        {
          "output_type": "stream",
          "name": "stdout",
          "text": [
            "[\"Where the Heart Is (Oprah's Book Club (Paperback))\", [[\"I'll Be Seeing You\", 0.8], ['The Weight of Water', 0.77], ['The Surgeon', 0.77], ['I Know This Much Is True', 0.77], ['The Lovely Bones: A Novel', 0.72]]]\n",
            "You passed the challenge! 🎉🎉🎉🎉🎉\n"
          ]
        }
      ],
      "source": [
        "books = get_recommends(\"Where the Heart Is (Oprah's Book Club (Paperback))\")\n",
        "print(books)\n",
        "\n",
        "def test_book_recommendation():\n",
        "  test_pass = True\n",
        "  recommends = get_recommends(\"Where the Heart Is (Oprah's Book Club (Paperback))\")\n",
        "  if recommends[0] != \"Where the Heart Is (Oprah's Book Club (Paperback))\":\n",
        "    test_pass = False\n",
        "  recommended_books = [\"I'll Be Seeing You\", 'The Weight of Water', 'The Surgeon', 'I Know This Much Is True']\n",
        "  recommended_books_dist = [0.8, 0.77, 0.77, 0.77]\n",
        "  for i in range(2): \n",
        "    if recommends[1][i][0] not in recommended_books:\n",
        "      test_pass = False\n",
        "    if abs(recommends[1][i][1] - recommended_books_dist[i]) >= 0.05:\n",
        "      test_pass = False\n",
        "  if test_pass:\n",
        "    print(\"You passed the challenge! 🎉🎉🎉🎉🎉\")\n",
        "  else:\n",
        "    print(\"You haven't passed yet. Keep trying!\")\n",
        "\n",
        "test_book_recommendation()"
      ]
    },
    {
      "cell_type": "code",
      "source": [],
      "metadata": {
        "id": "VZ-wV09m5itA"
      },
      "execution_count": null,
      "outputs": []
    }
  ],
  "metadata": {
    "colab": {
      "provenance": [],
      "include_colab_link": true
    },
    "kernelspec": {
      "display_name": "Python 3",
      "language": "python",
      "name": "python3"
    },
    "language_info": {
      "codemirror_mode": {
        "name": "ipython",
        "version": 3
      },
      "file_extension": ".py",
      "mimetype": "text/x-python",
      "name": "python",
      "nbconvert_exporter": "python",
      "pygments_lexer": "ipython3",
      "version": "3.6.5"
    },
    "gpuClass": "standard"
  },
  "nbformat": 4,
  "nbformat_minor": 0
}